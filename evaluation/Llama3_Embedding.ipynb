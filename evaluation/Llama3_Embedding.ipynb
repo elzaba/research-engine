{
 "cells": [
  {
   "cell_type": "markdown",
   "metadata": {
    "id": "1uKKzYXXBIuZ"
   },
   "source": [
    "# Install necesasary packages and import required libraries"
   ]
  },
  {
   "cell_type": "code",
   "execution_count": 1,
   "metadata": {
    "colab": {
     "base_uri": "https://localhost:8080/"
    },
    "id": "SuHvMXjYBBBo",
    "outputId": "08f5744d-8e34-45d2-ae99-97c402f6c48f"
   },
   "outputs": [
    {
     "name": "stdout",
     "output_type": "stream",
     "text": [
      "Requirement already satisfied: torch in ./.venv/lib/python3.11/site-packages (2.5.1)\n",
      "Requirement already satisfied: transformers in ./.venv/lib/python3.11/site-packages (4.46.2)\n",
      "Requirement already satisfied: pandas in ./.venv/lib/python3.11/site-packages (2.2.3)\n",
      "Requirement already satisfied: scikit-learn in ./.venv/lib/python3.11/site-packages (1.5.2)\n",
      "Requirement already satisfied: scipy in ./.venv/lib/python3.11/site-packages (1.14.1)\n",
      "Requirement already satisfied: seaborn in ./.venv/lib/python3.11/site-packages (0.13.2)\n",
      "Requirement already satisfied: matplotlib in ./.venv/lib/python3.11/site-packages (3.9.2)\n",
      "Requirement already satisfied: datasets in ./.venv/lib/python3.11/site-packages (3.1.0)\n",
      "Requirement already satisfied: sentencepiece in ./.venv/lib/python3.11/site-packages (0.2.0)\n",
      "Requirement already satisfied: accelerate in ./.venv/lib/python3.11/site-packages (1.1.1)\n",
      "Requirement already satisfied: filelock in ./.venv/lib/python3.11/site-packages (from torch) (3.16.1)\n",
      "Requirement already satisfied: typing-extensions>=4.8.0 in ./.venv/lib/python3.11/site-packages (from torch) (4.12.2)\n",
      "Requirement already satisfied: networkx in ./.venv/lib/python3.11/site-packages (from torch) (3.4.2)\n",
      "Requirement already satisfied: jinja2 in ./.venv/lib/python3.11/site-packages (from torch) (3.1.4)\n",
      "Requirement already satisfied: fsspec in ./.venv/lib/python3.11/site-packages (from torch) (2024.9.0)\n",
      "Requirement already satisfied: nvidia-cuda-nvrtc-cu12==12.4.127 in ./.venv/lib/python3.11/site-packages (from torch) (12.4.127)\n",
      "Requirement already satisfied: nvidia-cuda-runtime-cu12==12.4.127 in ./.venv/lib/python3.11/site-packages (from torch) (12.4.127)\n",
      "Requirement already satisfied: nvidia-cuda-cupti-cu12==12.4.127 in ./.venv/lib/python3.11/site-packages (from torch) (12.4.127)\n",
      "Requirement already satisfied: nvidia-cudnn-cu12==9.1.0.70 in ./.venv/lib/python3.11/site-packages (from torch) (9.1.0.70)\n",
      "Requirement already satisfied: nvidia-cublas-cu12==12.4.5.8 in ./.venv/lib/python3.11/site-packages (from torch) (12.4.5.8)\n",
      "Requirement already satisfied: nvidia-cufft-cu12==11.2.1.3 in ./.venv/lib/python3.11/site-packages (from torch) (11.2.1.3)\n",
      "Requirement already satisfied: nvidia-curand-cu12==10.3.5.147 in ./.venv/lib/python3.11/site-packages (from torch) (10.3.5.147)\n",
      "Requirement already satisfied: nvidia-cusolver-cu12==11.6.1.9 in ./.venv/lib/python3.11/site-packages (from torch) (11.6.1.9)\n",
      "Requirement already satisfied: nvidia-cusparse-cu12==12.3.1.170 in ./.venv/lib/python3.11/site-packages (from torch) (12.3.1.170)\n",
      "Requirement already satisfied: nvidia-nccl-cu12==2.21.5 in ./.venv/lib/python3.11/site-packages (from torch) (2.21.5)\n",
      "Requirement already satisfied: nvidia-nvtx-cu12==12.4.127 in ./.venv/lib/python3.11/site-packages (from torch) (12.4.127)\n",
      "Requirement already satisfied: nvidia-nvjitlink-cu12==12.4.127 in ./.venv/lib/python3.11/site-packages (from torch) (12.4.127)\n",
      "Requirement already satisfied: triton==3.1.0 in ./.venv/lib/python3.11/site-packages (from torch) (3.1.0)\n",
      "Requirement already satisfied: sympy==1.13.1 in ./.venv/lib/python3.11/site-packages (from torch) (1.13.1)\n",
      "Requirement already satisfied: mpmath<1.4,>=1.1.0 in ./.venv/lib/python3.11/site-packages (from sympy==1.13.1->torch) (1.3.0)\n",
      "Requirement already satisfied: huggingface-hub<1.0,>=0.23.2 in ./.venv/lib/python3.11/site-packages (from transformers) (0.26.2)\n",
      "Requirement already satisfied: numpy>=1.17 in ./.venv/lib/python3.11/site-packages (from transformers) (2.1.3)\n",
      "Requirement already satisfied: packaging>=20.0 in ./.venv/lib/python3.11/site-packages (from transformers) (24.2)\n",
      "Requirement already satisfied: pyyaml>=5.1 in ./.venv/lib/python3.11/site-packages (from transformers) (6.0.2)\n",
      "Requirement already satisfied: regex!=2019.12.17 in ./.venv/lib/python3.11/site-packages (from transformers) (2024.11.6)\n",
      "Requirement already satisfied: requests in ./.venv/lib/python3.11/site-packages (from transformers) (2.32.3)\n",
      "Requirement already satisfied: safetensors>=0.4.1 in ./.venv/lib/python3.11/site-packages (from transformers) (0.4.5)\n",
      "Requirement already satisfied: tokenizers<0.21,>=0.20 in ./.venv/lib/python3.11/site-packages (from transformers) (0.20.3)\n",
      "Requirement already satisfied: tqdm>=4.27 in ./.venv/lib/python3.11/site-packages (from transformers) (4.67.0)\n",
      "Requirement already satisfied: python-dateutil>=2.8.2 in ./.venv/lib/python3.11/site-packages (from pandas) (2.9.0.post0)\n",
      "Requirement already satisfied: pytz>=2020.1 in ./.venv/lib/python3.11/site-packages (from pandas) (2024.2)\n",
      "Requirement already satisfied: tzdata>=2022.7 in ./.venv/lib/python3.11/site-packages (from pandas) (2024.2)\n",
      "Requirement already satisfied: joblib>=1.2.0 in ./.venv/lib/python3.11/site-packages (from scikit-learn) (1.4.2)\n",
      "Requirement already satisfied: threadpoolctl>=3.1.0 in ./.venv/lib/python3.11/site-packages (from scikit-learn) (3.5.0)\n",
      "Requirement already satisfied: contourpy>=1.0.1 in ./.venv/lib/python3.11/site-packages (from matplotlib) (1.3.1)\n",
      "Requirement already satisfied: cycler>=0.10 in ./.venv/lib/python3.11/site-packages (from matplotlib) (0.12.1)\n",
      "Requirement already satisfied: fonttools>=4.22.0 in ./.venv/lib/python3.11/site-packages (from matplotlib) (4.55.0)\n",
      "Requirement already satisfied: kiwisolver>=1.3.1 in ./.venv/lib/python3.11/site-packages (from matplotlib) (1.4.7)\n",
      "Requirement already satisfied: pillow>=8 in ./.venv/lib/python3.11/site-packages (from matplotlib) (11.0.0)\n",
      "Requirement already satisfied: pyparsing>=2.3.1 in ./.venv/lib/python3.11/site-packages (from matplotlib) (3.2.0)\n",
      "Requirement already satisfied: pyarrow>=15.0.0 in ./.venv/lib/python3.11/site-packages (from datasets) (18.0.0)\n",
      "Requirement already satisfied: dill<0.3.9,>=0.3.0 in ./.venv/lib/python3.11/site-packages (from datasets) (0.3.8)\n",
      "Requirement already satisfied: xxhash in ./.venv/lib/python3.11/site-packages (from datasets) (3.5.0)\n",
      "Requirement already satisfied: multiprocess<0.70.17 in ./.venv/lib/python3.11/site-packages (from datasets) (0.70.16)\n",
      "Requirement already satisfied: aiohttp in ./.venv/lib/python3.11/site-packages (from datasets) (3.11.2)\n",
      "Requirement already satisfied: psutil in ./.venv/lib/python3.11/site-packages (from accelerate) (6.1.0)\n",
      "Requirement already satisfied: aiohappyeyeballs>=2.3.0 in ./.venv/lib/python3.11/site-packages (from aiohttp->datasets) (2.4.3)\n",
      "Requirement already satisfied: aiosignal>=1.1.2 in ./.venv/lib/python3.11/site-packages (from aiohttp->datasets) (1.3.1)\n",
      "Requirement already satisfied: attrs>=17.3.0 in ./.venv/lib/python3.11/site-packages (from aiohttp->datasets) (24.2.0)\n",
      "Requirement already satisfied: frozenlist>=1.1.1 in ./.venv/lib/python3.11/site-packages (from aiohttp->datasets) (1.5.0)\n",
      "Requirement already satisfied: multidict<7.0,>=4.5 in ./.venv/lib/python3.11/site-packages (from aiohttp->datasets) (6.1.0)\n",
      "Requirement already satisfied: propcache>=0.2.0 in ./.venv/lib/python3.11/site-packages (from aiohttp->datasets) (0.2.0)\n",
      "Requirement already satisfied: yarl<2.0,>=1.17.0 in ./.venv/lib/python3.11/site-packages (from aiohttp->datasets) (1.17.2)\n",
      "Requirement already satisfied: six>=1.5 in ./.venv/lib/python3.11/site-packages (from python-dateutil>=2.8.2->pandas) (1.16.0)\n",
      "Requirement already satisfied: charset-normalizer<4,>=2 in ./.venv/lib/python3.11/site-packages (from requests->transformers) (3.4.0)\n",
      "Requirement already satisfied: idna<4,>=2.5 in ./.venv/lib/python3.11/site-packages (from requests->transformers) (3.10)\n",
      "Requirement already satisfied: urllib3<3,>=1.21.1 in ./.venv/lib/python3.11/site-packages (from requests->transformers) (2.2.3)\n",
      "Requirement already satisfied: certifi>=2017.4.17 in ./.venv/lib/python3.11/site-packages (from requests->transformers) (2024.8.30)\n",
      "Requirement already satisfied: MarkupSafe>=2.0 in ./.venv/lib/python3.11/site-packages (from jinja2->torch) (3.0.2)\n"
     ]
    },
    {
     "name": "stderr",
     "output_type": "stream",
     "text": [
      "/home/babu42/Documents/IR/.venv/lib/python3.11/site-packages/tqdm/auto.py:21: TqdmWarning: IProgress not found. Please update jupyter and ipywidgets. See https://ipywidgets.readthedocs.io/en/stable/user_install.html\n",
      "  from .autonotebook import tqdm as notebook_tqdm\n"
     ]
    }
   ],
   "source": [
    "!pip install torch transformers pandas scikit-learn scipy seaborn matplotlib datasets sentencepiece accelerate\n",
    "import requests\n",
    "import torch\n",
    "import accelerate\n",
    "import numpy as np\n",
    "import pandas as pd\n",
    "from sklearn.model_selection import train_test_split\n",
    "from sklearn.linear_model import LogisticRegression\n",
    "from sklearn.metrics import accuracy_score, precision_score, recall_score, f1_score, confusion_matrix, classification_report\n",
    "from scipy.stats import spearmanr\n",
    "import seaborn as sns\n",
    "import matplotlib.pyplot as plt\n",
    "from transformers import AutoTokenizer, AutoModel\n",
    "from datasets import load_dataset"
   ]
  },
  {
   "cell_type": "markdown",
   "metadata": {
    "id": "ZfF5c6dvDR30"
   },
   "source": [
    "## Set device"
   ]
  },
  {
   "cell_type": "code",
   "execution_count": 2,
   "metadata": {
    "id": "mpXKeXfkBU2N"
   },
   "outputs": [
    {
     "name": "stdout",
     "output_type": "stream",
     "text": [
      "Using device: cuda\n"
     ]
    }
   ],
   "source": [
    "device = \"cuda\" if torch.cuda.is_available() else \"cpu\"\n",
    "print(f\"Using device: {device}\")"
   ]
  },
  {
   "cell_type": "markdown",
   "metadata": {
    "id": "SGzPidQMEEAx"
   },
   "source": [
    "## Download dataset"
   ]
  },
  {
   "cell_type": "code",
   "execution_count": null,
   "metadata": {
    "id": "aUlPTPW8EJk8"
   },
   "outputs": [],
   "source": [
    "url = 'https://jlu.myweb.cs.uwindsor.ca/8380/'\n",
    "lines = requests.get(url + 'vldb_train.txt').text.split('\\n')\n",
    "documents = [line.lower().strip() for line in lines if line.strip()]"
   ]
  },
  {
   "cell_type": "markdown",
   "metadata": {
    "id": "_945WA8oEOVv"
   },
   "source": [
    "# 1: Generate Embeddings using Llama"
   ]
  },
  {
   "cell_type": "code",
   "execution_count": 9,
   "metadata": {
    "id": "dNT_xoziERJV"
   },
   "outputs": [],
   "source": [
    "def generate_embeddings(texts, model, tokenizer, pooling_method=\"cls\", batch_size=4):\n",
    "    embeddings_list = []\n",
    "\n",
    "    for i in range(0, len(texts), batch_size):\n",
    "        batch = texts[i:i+batch_size]\n",
    "        encoded = tokenizer(\n",
    "            batch, padding=True, truncation=True, max_length=512, return_tensors=\"pt\"\n",
    "        )\n",
    "        \n",
    "        input_ids = encoded[\"input_ids\"].to(model.device)\n",
    "        attention_mask = encoded[\"attention_mask\"].to(model.device)\n",
    "        \n",
    "        with torch.no_grad():\n",
    "            outputs = model(input_ids, attention_mask=attention_mask)\n",
    "\n",
    "        if pooling_method == \"cls\":\n",
    "            batch_embeddings = outputs.last_hidden_state[:, 0, :]  # CLS token\n",
    "        elif pooling_method == \"mean\":\n",
    "            batch_embeddings = (\n",
    "                outputs.last_hidden_state * attention_mask.unsqueeze(-1)\n",
    "            ).sum(dim=1) / attention_mask.sum(dim=1).unsqueeze(-1)\n",
    "        else:\n",
    "            raise ValueError(\"Invalid pooling method. Use 'cls' or 'mean'.\")\n",
    "\n",
    "        embeddings_list.append(batch_embeddings.cpu().numpy())\n",
    "\n",
    "    return np.vstack(embeddings_list)\n"
   ]
  },
  {
   "cell_type": "code",
   "execution_count": 11,
   "metadata": {
    "id": "04nHkc60gqNG"
   },
   "outputs": [
    {
     "name": "stderr",
     "output_type": "stream",
     "text": [
      "Loading checkpoint shards: 100%|██████████| 2/2 [00:05<00:00,  2.75s/it]\n"
     ]
    },
    {
     "data": {
      "text/plain": [
       "LlamaModel(\n",
       "  (embed_tokens): Embedding(32000, 4096, padding_idx=0)\n",
       "  (layers): ModuleList(\n",
       "    (0-31): 32 x LlamaDecoderLayer(\n",
       "      (self_attn): LlamaSdpaAttention(\n",
       "        (q_proj): Linear(in_features=4096, out_features=4096, bias=False)\n",
       "        (k_proj): Linear(in_features=4096, out_features=4096, bias=False)\n",
       "        (v_proj): Linear(in_features=4096, out_features=4096, bias=False)\n",
       "        (o_proj): Linear(in_features=4096, out_features=4096, bias=False)\n",
       "        (rotary_emb): LlamaRotaryEmbedding()\n",
       "      )\n",
       "      (mlp): LlamaMLP(\n",
       "        (gate_proj): Linear(in_features=4096, out_features=11008, bias=False)\n",
       "        (up_proj): Linear(in_features=4096, out_features=11008, bias=False)\n",
       "        (down_proj): Linear(in_features=11008, out_features=4096, bias=False)\n",
       "        (act_fn): SiLU()\n",
       "      )\n",
       "      (input_layernorm): LlamaRMSNorm((4096,), eps=1e-05)\n",
       "      (post_attention_layernorm): LlamaRMSNorm((4096,), eps=1e-05)\n",
       "    )\n",
       "  )\n",
       "  (norm): LlamaRMSNorm((4096,), eps=1e-05)\n",
       "  (rotary_emb): LlamaRotaryEmbedding()\n",
       ")"
      ]
     },
     "execution_count": 11,
     "metadata": {},
     "output_type": "execute_result"
    }
   ],
   "source": [
    "# Load the LLaMA model and tokenizer\n",
    "pretrained_weights = 'NousResearch/llama-2-7b-chat-hf'\n",
    "tokenizer = AutoTokenizer.from_pretrained(pretrained_weights)\n",
    "# Load model in FP16 precision\n",
    "model = AutoModel.from_pretrained(\n",
    "    pretrained_weights,\n",
    "    torch_dtype=torch.float16,\n",
    "    low_cpu_mem_usage=True,\n",
    "    device_map=\"balanced\"\n",
    ")\n",
    "model.eval()"
   ]
  },
  {
   "cell_type": "code",
   "execution_count": 12,
   "metadata": {
    "id": "yJDBbDv7grUg"
   },
   "outputs": [
    {
     "name": "stdout",
     "output_type": "stream",
     "text": [
      "Generating embeddings...\n"
     ]
    }
   ],
   "source": [
    "print(\"Generating embeddings...\")\n",
    "embeddings = generate_embeddings(documents, model, tokenizer, pooling_method=\"cls\", batch_size=2)\n",
    "print(f\"Embeddings shape: {embeddings.shape}\")"
   ]
  },
  {
   "cell_type": "markdown",
   "metadata": {
    "id": "07TKDwksEmMI"
   },
   "source": [
    "# 2: Evaluation in classification task"
   ]
  },
  {
   "cell_type": "code",
   "execution_count": null,
   "metadata": {
    "id": "Za7YbRdoEnEa"
   },
   "outputs": [],
   "source": [
    "pos = requests.get(url + 'vldb.txt').text.split('\\n')\n",
    "neg = requests.get(url + 'icse.txt').text.split('\\n')\n",
    "k = 1000  # Work with 1000 samples initially for each class\n",
    "documents_class = pos[:k] + neg[:k]\n",
    "labels = [0] * k + [1] * k"
   ]
  },
  {
   "cell_type": "code",
   "execution_count": null,
   "metadata": {
    "id": "el6rTnk2hB_c"
   },
   "outputs": [],
   "source": [
    "print(\"Generating embeddings for classification task...\")\n",
    "class_embeddings = generate_embeddings(documents_class, model, tokenizer, pooling_method=\"cls\", batch_size=2)"
   ]
  },
  {
   "cell_type": "code",
   "execution_count": null,
   "metadata": {
    "id": "UHjLutkfhGYS"
   },
   "outputs": [],
   "source": [
    "# Train-test split\n",
    "train_features, test_features, train_labels, test_labels = train_test_split(class_embeddings, labels, random_state=42)\n",
    "\n",
    "# Train classifier\n",
    "clf = LogisticRegression(max_iter=500, solver='lbfgs')\n",
    "clf.fit(train_features, train_labels)"
   ]
  },
  {
   "cell_type": "code",
   "execution_count": null,
   "metadata": {
    "id": "0GZcQdpxhKsS"
   },
   "outputs": [],
   "source": [
    "# Evaluate the classifier\n",
    "y_pred = clf.predict(test_features)\n",
    "accuracy = accuracy_score(test_labels, y_pred)\n",
    "precision = precision_score(test_labels, y_pred)\n",
    "recall = recall_score(test_labels, y_pred)\n",
    "f1 = f1_score(test_labels, y_pred)\n",
    "cm = confusion_matrix(test_labels, y_pred)\n",
    "\n",
    "print(f\"Accuracy: {accuracy:.4f}, Precision: {precision:.4f}, Recall: {recall:.4f}, F1 Score: {f1:.4f}\")\n",
    "print(\"Confusion Matrix:\")\n",
    "print(cm)"
   ]
  },
  {
   "cell_type": "code",
   "execution_count": null,
   "metadata": {
    "id": "z6I9UK5PhP5Q"
   },
   "outputs": [],
   "source": [
    "# Visualize the confusion matrix\n",
    "sns.heatmap(cm, annot=True, fmt='d', cmap='Blues')\n",
    "plt.xlabel('Predicted')\n",
    "plt.ylabel('Actual')\n",
    "plt.title('Confusion Matrix')\n",
    "plt.show()"
   ]
  },
  {
   "cell_type": "markdown",
   "metadata": {
    "id": "sLcKO9rdF3KV"
   },
   "source": [
    "# 3: Evaluation in STS task"
   ]
  },
  {
   "cell_type": "code",
   "execution_count": null,
   "metadata": {
    "id": "pvpvRg29F4SL"
   },
   "outputs": [],
   "source": [
    "sts_data = []\n",
    "lines = requests.get(url + \"ws/WS353-Sim.txt\").text.rstrip().split('\\n')\n",
    "for line in lines:\n",
    "    x, y, sim = line.lower().split()\n",
    "    sts_data.append(((x, y), float(sim)))"
   ]
  },
  {
   "cell_type": "code",
   "execution_count": null,
   "metadata": {
    "id": "77n9OTJahfzW"
   },
   "outputs": [],
   "source": [
    "actual, expected = [], []\n",
    "for (x, y), sim in sts_data:\n",
    "    x_emb = generate_embeddings([x], model, tokenizer, pooling_method=\"cls\", batch_size=2)[0]\n",
    "    y_emb = generate_embeddings([y], model, tokenizer, pooling_method=\"cls\", batch_size=2)[0]\n",
    "    cosine_sim = np.dot(x_emb, y_emb) / (np.linalg.norm(x_emb) * np.linalg.norm(y_emb))\n",
    "    actual.append(cosine_sim)\n",
    "    expected.append(sim)"
   ]
  },
  {
   "cell_type": "code",
   "execution_count": null,
   "metadata": {
    "id": "Ht0AKyhHhjuY"
   },
   "outputs": [],
   "source": [
    "# Calculate Spearman's correlation\n",
    "spearman_corr, _ = spearmanr(actual, expected)\n",
    "print(f\"Spearman's Correlation: {spearman_corr:.4f}\")"
   ]
  },
  {
   "cell_type": "code",
   "execution_count": null,
   "metadata": {
    "id": "FdQgx7oVhq7g"
   },
   "outputs": [],
   "source": [
    "# Visualize actual vs. expected similarity\n",
    "plt.scatter(expected, actual)\n",
    "plt.xlabel('Expected Similarity')\n",
    "plt.ylabel('Actual Similarity')\n",
    "plt.title('STS Evaluation: Actual vs. Expected Similarity')\n",
    "plt.show()"
   ]
  },
  {
   "cell_type": "markdown",
   "metadata": {
    "id": "x_9--4cCl3yG"
   },
   "source": [
    "## STS Benchmark (STSb) dataset from Hugging Face"
   ]
  },
  {
   "cell_type": "code",
   "execution_count": null,
   "metadata": {
    "id": "vcY5ZYGzmEH1"
   },
   "outputs": [],
   "source": [
    "# Load the STSb dataset from Hugging Face\n",
    "stsb_dataset = load_dataset(\"sentence-transformers/stsb\", split=\"test\")"
   ]
  },
  {
   "cell_type": "code",
   "execution_count": null,
   "metadata": {
    "id": "T8GJH8RtmMnw"
   },
   "outputs": [],
   "source": [
    "actual, expected = [], []\n",
    "for example in stsb_dataset:\n",
    "    sentence1, sentence2 = example['sentence1'], example['sentence2']\n",
    "    human_score = example['label'] / 5.0  # Normalize to [0, 1]\n",
    "\n",
    "    # Generate embeddings for the two sentences\n",
    "    sent1_emb = generate_embeddings([sentence1], model, tokenizer, pooling_method=\"cls\", batch_size=2)[0]\n",
    "    sent2_emb = generate_embeddings([sentence2], model, tokenizer, pooling_method=\"cls\", batch_size=2)[0]\n",
    "\n",
    "    # Calculate cosine similarity\n",
    "    cosine_sim = np.dot(sent1_emb, sent2_emb) / (np.linalg.norm(sent1_emb) * np.linalg.norm(sent2_emb))\n",
    "\n",
    "    actual.append(cosine_sim)\n",
    "    expected.append(human_score)"
   ]
  },
  {
   "cell_type": "code",
   "execution_count": null,
   "metadata": {
    "id": "Qj2GP2dEmWqt"
   },
   "outputs": [],
   "source": [
    "# Calculate and display Spearman's correlation\n",
    "spearman_corr, _ = spearmanr(actual, expected)\n",
    "print(f\"Spearman's Correlation (STS Benchmark): {spearman_corr:.4f}\")"
   ]
  },
  {
   "cell_type": "code",
   "execution_count": null,
   "metadata": {
    "id": "RW3hMXdHmbty"
   },
   "outputs": [],
   "source": [
    "# Plot actual vs. expected similarities\n",
    "plt.scatter(expected, actual, alpha=0.5)\n",
    "plt.xlabel('Expected Similarity (Normalized)')\n",
    "plt.ylabel('Actual Similarity')\n",
    "plt.title('STS Benchmark Evaluation: Actual vs. Expected Similarity')\n",
    "plt.show()\n"
   ]
  }
 ],
 "metadata": {
  "colab": {
   "provenance": []
  },
  "kernelspec": {
   "display_name": "Python 3",
   "name": "python3"
  },
  "language_info": {
   "codemirror_mode": {
    "name": "ipython",
    "version": 3
   },
   "file_extension": ".py",
   "mimetype": "text/x-python",
   "name": "python",
   "nbconvert_exporter": "python",
   "pygments_lexer": "ipython3",
   "version": "3.11.2"
  }
 },
 "nbformat": 4,
 "nbformat_minor": 0
}
